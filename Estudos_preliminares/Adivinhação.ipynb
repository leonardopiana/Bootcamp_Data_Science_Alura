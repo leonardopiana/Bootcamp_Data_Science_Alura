{
  "nbformat": 4,
  "nbformat_minor": 0,
  "metadata": {
    "colab": {
      "name": "Adivinhação",
      "provenance": [],
      "authorship_tag": "ABX9TyPdVAvRI5J51uYhuX3s+6vx",
      "include_colab_link": true
    },
    "kernelspec": {
      "name": "python3",
      "display_name": "Python 3"
    }
  },
  "cells": [
    {
      "cell_type": "markdown",
      "metadata": {
        "id": "view-in-github",
        "colab_type": "text"
      },
      "source": [
        "<a href=\"https://colab.research.google.com/github/leonardopiana/Bootcamp_Data_Science_Alura/blob/main/Estudos_preliminares/Adivinha%C3%A7%C3%A3o.ipynb\" target=\"_parent\"><img src=\"https://colab.research.google.com/assets/colab-badge.svg\" alt=\"Open In Colab\"/></a>"
      ]
    },
    {
      "cell_type": "code",
      "metadata": {
        "colab": {
          "base_uri": "https://localhost:8080/"
        },
        "id": "CCkck0ZcpwGq",
        "outputId": "376e73d2-0530-4941-f790-212dd0039dd0"
      },
      "source": [
        "print('********************************')\n",
        "print('Bem vindo ao Jogo de Adivinhação')\n",
        "print('********************************')\n",
        "\n",
        "numero_secreto = 42\n",
        "\n",
        "chute_str = input(\"Digite o seu número: \")\n",
        "chute = int(chute_str)\n",
        "print(\"Você chutou\", chute)\n",
        "if(numero_secreto == chute):\n",
        "  print(\"Você acertou\")\n",
        "else:\n",
        "    print(\"Você errou\")\n",
        "print(\"Fim do Jogo!\")"
      ],
      "execution_count": null,
      "outputs": [
        {
          "output_type": "stream",
          "name": "stdout",
          "text": [
            "********************************\n",
            "Bem vindo ao Jogo de Adivinhação\n",
            "********************************\n"
          ]
        }
      ]
    },
    {
      "cell_type": "code",
      "metadata": {
        "id": "Oze_UNzjwXee"
      },
      "source": [
        "print(\"*********************************\")\n",
        "print(\"Bem vindo ao jogo de Adivinhação!\")\n",
        "print(\"*********************************\")\n",
        "\n",
        "numero_secreto = 42\n",
        "\n",
        "chute_str = input(\"Digite o seu número: \")\n",
        "print(\"Você digitou \" , chute_str)\n",
        "chute = int(chute_str)\n",
        "\n",
        "acertou = chute == numero_secreto\n",
        "maior = chute > numero_secreto\n",
        "menor = chute < numero_secreto\n",
        "\n",
        "if(acertou):\n",
        "    print(\"Parabéns! Você acertou!\")\n",
        "else:\n",
        "    if(maior):\n",
        "        print(\"O seu chute foi maior do que o número secreto!\")\n",
        "    elif(menor):\n",
        "        print(\"O seu chute foi menor do que o número secreto!\")\n",
        "\n",
        "print(\"Fim do jogo\")"
      ],
      "execution_count": null,
      "outputs": []
    },
    {
      "cell_type": "code",
      "metadata": {
        "id": "mORGIOZDw1d9"
      },
      "source": [
        "print(\"*********************************\")\n",
        "print(\"Bem vindo ao jogo de Adivinhação!\")\n",
        "print(\"*********************************\")\n",
        "\n",
        "numero_secreto = 42\n",
        "total_de_tentativas = 3\n",
        "rodada = 1\n",
        "\n",
        "while(rodada <= total_de_tentativas):\n",
        "    print(\"Tentativa {} de {}\".format(rodada, total_de_tentativas))\n",
        "    chute_str = input(\"Digite o seu número: \")\n",
        "    print(\"Você digitou \" , chute_str)\n",
        "    chute = int(chute_str)\n",
        "\n",
        "    acertou = chute == numero_secreto\n",
        "    maior = chute > numero_secreto\n",
        "    menor = chute < numero_secreto\n",
        "\n",
        "    if(acertou):\n",
        "        print(\"Parabéns! Você acertou!\")\n",
        "    else:\n",
        "        if(maior):\n",
        "            print(\"O seu chute foi maior do que o número secreto!\")\n",
        "        elif(menor):\n",
        "            print(\"O seu chute foi menor do que o número secreto!\")\n",
        "\n",
        "    rodada = rodada + 1\n",
        "\n",
        "print(\"Fim do jogo\")"
      ],
      "execution_count": null,
      "outputs": []
    },
    {
      "cell_type": "code",
      "metadata": {
        "id": "RZIi0Cx0O0is"
      },
      "source": [
        "print(\"*********************************\")\n",
        "print(\"Bem vindo ao jogo de Adivinhação!\")\n",
        "print(\"*********************************\")\n",
        "\n",
        "numero_secreto = 42\n",
        "total_de_tentativas = 3\n",
        "\n",
        "for rodada in range(1, total_de_tentativas + 1):\n",
        "    print(\"Tentativa {} de {}\".format(rodada, total_de_tentativas))\n",
        "    chute_str = input(\"Digite o seu número: \")\n",
        "    print(\"Você digitou \" , chute_str)\n",
        "    chute = int(chute_str)\n",
        "\n",
        "    acertou = chute == numero_secreto\n",
        "    maior = chute > numero_secreto\n",
        "    menor = chute < numero_secreto\n",
        "\n",
        "    if(acertou):\n",
        "        print(\"Parabéns! Você acertou!\")\n",
        "        break\n",
        "    else:\n",
        "        if(maior):\n",
        "            print(\"O seu chute foi maior do que o número secreto!\")\n",
        "        elif(menor):\n",
        "            print(\"O seu chute foi menor do que o número secreto!\")\n",
        "\n",
        "print(\"Fim do jogo\")"
      ],
      "execution_count": null,
      "outputs": []
    },
    {
      "cell_type": "code",
      "metadata": {
        "id": "tkZlyA9UQsnr"
      },
      "source": [
        "print(\"*********************************\")\n",
        "print(\"Bem vindo ao jogo de Adivinhação!\")\n",
        "print(\"*********************************\")\n",
        "\n",
        "numero_secreto = 42\n",
        "total_de_tentativas = 3\n",
        "\n",
        "for rodada in range(1, total_de_tentativas + 1):\n",
        "    print(\"Tentativa {} de {}\".format(rodada, total_de_tentativas))\n",
        "    chute_str = input(\"Digite número entre 1 e 100: \")\n",
        "    print(\"Você digitou \" , chute_str)\n",
        "    chute = int(chute_str)\n",
        "\n",
        "    if(chute < 1 or chute > 100):\n",
        "      print(\"Você deve digitar um número entre 1 e 100!\")\n",
        "      continue\n",
        "\n",
        "    acertou = chute == numero_secreto\n",
        "    maior = chute > numero_secreto\n",
        "    menor = chute < numero_secreto\n",
        "\n",
        "    if(acertou):\n",
        "        print(\"Parabéns! Você acertou!\")\n",
        "        break\n",
        "    else:\n",
        "        if(maior):\n",
        "            print(\"O seu chute foi maior do que o número secreto!\")\n",
        "        elif(menor):\n",
        "            print(\"O seu chute foi menor do que o número secreto!\")\n",
        "\n",
        "print(\"Fim do jogo\")"
      ],
      "execution_count": null,
      "outputs": []
    },
    {
      "cell_type": "code",
      "metadata": {
        "id": "q86qK4Bff3CM"
      },
      "source": [
        "\"R$ {:7.1f}\".format(1000.12)\n",
        "\"R$ {:07.2f}\".format(4.11)"
      ],
      "execution_count": null,
      "outputs": []
    },
    {
      "cell_type": "code",
      "metadata": {
        "id": "aI5mgEREf4Og"
      },
      "source": [
        ">>> nome = 'Matheus'\n",
        ">>> print(f'Meu nome é {nome}')"
      ],
      "execution_count": null,
      "outputs": []
    },
    {
      "cell_type": "code",
      "metadata": {
        "id": "ZKrABdWZgaak"
      },
      "source": [
        ">>> nome = 'Matheus'\n",
        ">>> print(f'Meu nome é {nome.lower()}')"
      ],
      "execution_count": null,
      "outputs": []
    },
    {
      "cell_type": "code",
      "metadata": {
        "id": "ynRZiGEWghJf"
      },
      "source": [
        "import random\n",
        "\n",
        "print(\"*********************************\")\n",
        "print(\"Bem vindo ao jogo de Adivinhação!\")\n",
        "print(\"*********************************\")\n",
        "\n",
        "numero_secreto = round(random.random() * 100)\n",
        "total_de_tentativas = 3\n",
        "\n",
        "for rodada in range(1, total_de_tentativas + 1):\n",
        "    print(\"Tentativa {} de {}\".format(rodada, total_de_tentativas))\n",
        "    chute_str = input(\"Digite número entre 1 e 100: \")\n",
        "    print(\"Você digitou \" , chute_str)\n",
        "    chute = int(chute_str)\n",
        "\n",
        "    if(chute < 1 or chute > 100):\n",
        "      print(\"Você deve digitar um número entre 1 e 100!\")\n",
        "      continue\n",
        "\n",
        "    acertou = chute == numero_secreto\n",
        "    maior = chute > numero_secreto\n",
        "    menor = chute < numero_secreto\n",
        "\n",
        "    if(acertou):\n",
        "        print(\"Parabéns! Você acertou!\")\n",
        "        break\n",
        "    else:\n",
        "        if(maior):\n",
        "            print(\"O seu chute foi maior do que o número secreto!\")\n",
        "        elif(menor):\n",
        "            print(\"O seu chute foi menor do que o número secreto!\")\n",
        "\n",
        "print(\"Fim do jogo\")"
      ],
      "execution_count": null,
      "outputs": []
    },
    {
      "cell_type": "markdown",
      "metadata": {
        "id": "U5jJwQs-hadq"
      },
      "source": [
        "built-in function - funções que já vem dentro do python"
      ]
    },
    {
      "cell_type": "code",
      "metadata": {
        "id": "UPV6IaYhhfND"
      },
      "source": [
        "import random\n",
        "\n",
        "print(\"*********************************\")\n",
        "print(\"Bem vindo ao jogo de Adivinhação!\")\n",
        "print(\"*********************************\")\n",
        "\n",
        "numero_secreto = random.randrange(1,101)\n",
        "total_de_tentativas = 3\n",
        "\n",
        "for rodada in range(1, total_de_tentativas + 1):\n",
        "    print(\"Tentativa {} de {}\".format(rodada, total_de_tentativas))\n",
        "    chute_str = input(\"Digite número entre 1 e 100: \")\n",
        "    print(\"Você digitou \" , chute_str)\n",
        "    chute = int(chute_str)\n",
        "\n",
        "    if(chute < 1 or chute > 100):\n",
        "      print(\"Você deve digitar um número entre 1 e 100!\")\n",
        "      continue\n",
        "\n",
        "    acertou = chute == numero_secreto\n",
        "    maior = chute > numero_secreto\n",
        "    menor = chute < numero_secreto\n",
        "\n",
        "    if(acertou):\n",
        "        print(\"Parabéns! Você acertou!\")\n",
        "        break\n",
        "    else:\n",
        "        if(maior):\n",
        "            print(\"O seu chute foi maior do que o número secreto!\")\n",
        "        elif(menor):\n",
        "            print(\"O seu chute foi menor do que o número secreto!\")\n",
        "\n",
        "print(\"Fim do jogo\")"
      ],
      "execution_count": null,
      "outputs": []
    },
    {
      "cell_type": "code",
      "metadata": {
        "id": "7FJbMEYcjc36"
      },
      "source": [
        "import random\n",
        "\n",
        "print(\"*********************************\")\n",
        "print(\"Bem vindo ao jogo de Adivinhação!\")\n",
        "print(\"*********************************\")\n",
        "\n",
        "numero_secreto = random.randrange(1,101)\n",
        "total_de_tentativas = 0\n",
        "\n",
        "print(\"Qual nível de dificuldade?\")\n",
        "print(\"(1)Fácil (2)Médio (3)Difícil\")\n",
        "\n",
        "nivel = int(input(\"Defina um nível: \"))\n",
        "\n",
        "if(nivel == 1):\n",
        "  total_de_tentativas = 20\n",
        "elif(nivel == 2):\n",
        "  total_de_tentativas = 10\n",
        "else:\n",
        "  total_de_tentativas = 5\n",
        "\n",
        "for rodada in range(1, total_de_tentativas + 1):\n",
        "    print(\"Tentativa {} de {}\".format(rodada, total_de_tentativas))\n",
        "    chute_str = input(\"Digite número entre 1 e 100: \")\n",
        "    print(\"Você digitou \" , chute_str)\n",
        "    chute = int(chute_str)\n",
        "\n",
        "    if(chute < 1 or chute > 100):\n",
        "      print(\"Você deve digitar um número entre 1 e 100!\")\n",
        "      continue\n",
        "\n",
        "    acertou = chute == numero_secreto\n",
        "    maior = chute > numero_secreto\n",
        "    menor = chute < numero_secreto\n",
        "\n",
        "    if(acertou):\n",
        "        print(\"Parabéns! Você acertou!\")\n",
        "        break\n",
        "    else:\n",
        "        if(maior):\n",
        "            print(\"O seu chute foi maior do que o número secreto!\")\n",
        "        elif(menor):\n",
        "            print(\"O seu chute foi menor do que o número secreto!\")\n",
        "\n",
        "print(\"Fim do jogo\")"
      ],
      "execution_count": null,
      "outputs": []
    },
    {
      "cell_type": "code",
      "metadata": {
        "id": "GRYDWNUSmG_v"
      },
      "source": [
        "import random\n",
        "\n",
        "print(\"*********************************\")\n",
        "print(\"Bem vindo ao jogo de Adivinhação!\")\n",
        "print(\"*********************************\")\n",
        "\n",
        "numero_secreto = random.randrange(1,101)\n",
        "total_de_tentativas = 0\n",
        "pontos = 1000\n",
        "\n",
        "print(\"Qual nível de dificuldade?\")\n",
        "print(\"(1)Fácil (2)Médio (3)Difícil\")\n",
        "\n",
        "nivel = int(input(\"Defina um nível: \"))\n",
        "\n",
        "if(nivel == 1):\n",
        "  total_de_tentativas = 20\n",
        "elif(nivel == 2):\n",
        "  total_de_tentativas = 10\n",
        "else:\n",
        "  total_de_tentativas = 5\n",
        "\n",
        "for rodada in range(1, total_de_tentativas + 1):\n",
        "    print(\"Tentativa {} de {}\".format(rodada, total_de_tentativas))\n",
        "\n",
        "    chute_str = input(\"Digite número entre 1 e 100: \")\n",
        "    print(\"Você digitou \" , chute_str)\n",
        "    chute = int(chute_str)\n",
        "\n",
        "    if(chute < 1 or chute > 100):\n",
        "      print(\"Você deve digitar um número entre 1 e 100!\")\n",
        "      continue\n",
        "\n",
        "    acertou = chute == numero_secreto\n",
        "    maior = chute > numero_secreto\n",
        "    menor = chute < numero_secreto\n",
        "\n",
        "    if(acertou):\n",
        "        print(\"Parabéns! Você acertou e fez {} pontos\".format(pontos))\n",
        "        break\n",
        "    else:\n",
        "        if(maior):\n",
        "            print(\"O seu chute foi maior do que o número secreto!\")\n",
        "        elif(menor):\n",
        "            print(\"O seu chute foi menor do que o número secreto!\")\n",
        "        pontos_perdidos = abs(numero_secreto - chute)\n",
        "        pontos = pontos - pontos_perdidos\n",
        "\n",
        "print(\"Fim do jogo\")"
      ],
      "execution_count": null,
      "outputs": []
    },
    {
      "cell_type": "code",
      "metadata": {
        "id": "yTPN360QwI-Z"
      },
      "source": [
        "import random\n",
        "\n",
        "def jogar():  \n",
        "    print(\"*********************************\")\n",
        "    print(\"Bem vindo ao jogo de Adivinhação!\")\n",
        "    print(\"*********************************\")\n",
        "\n",
        "    numero_secreto = random.randrange(1,101)\n",
        "    total_de_tentativas = 0\n",
        "    pontos = 1000\n",
        "\n",
        "    print(\"Qual nível de dificuldade?\")\n",
        "    print(\"(1)Fácil (2)Médio (3)Difícil\")\n",
        "\n",
        "    nivel = int(input(\"Defina um nível: \"))\n",
        "\n",
        "    if(nivel == 1):\n",
        "      total_de_tentativas = 20\n",
        "    elif(nivel == 2):\n",
        "      total_de_tentativas = 10\n",
        "    else:\n",
        "      total_de_tentativas = 5\n",
        "\n",
        "    for rodada in range(1, total_de_tentativas + 1):\n",
        "        print(\"Tentativa {} de {}\".format(rodada, total_de_tentativas))\n",
        "\n",
        "        chute_str = input(\"Digite número entre 1 e 100: \")\n",
        "        print(\"Você digitou \" , chute_str)\n",
        "        chute = int(chute_str)\n",
        "\n",
        "        if(chute < 1 or chute > 100):\n",
        "          print(\"Você deve digitar um número entre 1 e 100!\")\n",
        "          continue\n",
        "\n",
        "        acertou = chute == numero_secreto\n",
        "        maior = chute > numero_secreto\n",
        "        menor = chute < numero_secreto\n",
        "\n",
        "        if(acertou):\n",
        "            print(\"Parabéns! Você acertou e fez {} pontos\".format(pontos))\n",
        "            break\n",
        "        else:\n",
        "            if(maior):\n",
        "                print(\"O seu chute foi maior do que o número secreto!\")\n",
        "            elif(menor):\n",
        "                print(\"O seu chute foi menor do que o número secreto!\")\n",
        "            pontos_perdidos = abs(numero_secreto - chute)\n",
        "            pontos = pontos - pontos_perdidos\n",
        "\n",
        "    print(\"Fim do jogo\")\n",
        "\n",
        "if(__name__ == \"__main__\"):\n",
        "    jogar()"
      ],
      "execution_count": null,
      "outputs": []
    }
  ]
}